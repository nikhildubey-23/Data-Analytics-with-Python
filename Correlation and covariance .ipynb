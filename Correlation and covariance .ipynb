{
 "cells": [
  {
   "cell_type": "markdown",
   "id": "9ce03b71-a241-4d97-9079-6291bc7983c1",
   "metadata": {},
   "source": [
    "In pandas you can calculate correlation and covariance between series or columns in a dataframe  using the corr and cov methods respectively.\n",
    "\n"
   ]
  },
  {
   "cell_type": "code",
   "execution_count": 4,
   "id": "ff21747b-21ae-4904-8392-4606e2adb88d",
   "metadata": {},
   "outputs": [
    {
     "name": "stdout",
     "output_type": "stream",
     "text": [
      " the correlation between s and s2 :- \n",
      " 0.3467314712926821\n",
      " the covariance between s and s2 :-\n",
      " 13.5\n"
     ]
    }
   ],
   "source": [
    "import pandas as pd\n",
    "df = pd.DataFrame([[1,2,3,4],[1,4,5,6],[6,7,4,3]])\n",
    "s=pd.Series([1,2,4,5,6,67,7])\n",
    "s2 = pd.Series([1,3,4,5,4,5,6])\n",
    "#finding the correlation between two series\n",
    "print(\" the correlation between s and s2 :- \\n\",s.corr(s2))\n",
    "#finding the covariance between s and s2\n",
    "print(\" the covariance between s and s2 :-\\n\",s.cov(s2))"
   ]
  },
  {
   "cell_type": "code",
   "execution_count": 5,
   "id": "c588eddf-a067-4112-919b-97e15a78380a",
   "metadata": {},
   "outputs": [
    {
     "name": "stdout",
     "output_type": "stream",
     "text": [
      " the correlation between s and s2 :- \n",
      "           0         1         2         3\n",
      "0  1.000000  0.917663  0.000000 -0.755929\n",
      "1  0.917663  1.000000  0.397360 -0.433555\n",
      "2  0.000000  0.397360  1.000000  0.654654\n",
      "3 -0.755929 -0.433555  0.654654  1.000000\n",
      " the covariance between s and s2 :-\n",
      "           0         1    2         3\n",
      "0  8.333333  6.666667  0.0 -3.333333\n",
      "1  6.666667  6.333333  1.0 -1.666667\n",
      "2  0.000000  1.000000  1.0  1.000000\n",
      "3 -3.333333 -1.666667  1.0  2.333333\n"
     ]
    }
   ],
   "source": [
    "#same goes for Dataframe :-\n",
    "#finding the correlation in data frame \n",
    "print(\" the correlation between s and s2 :- \\n\",df.corr())\n",
    "#finding the covariance in data frame\n",
    "print(\" the covariance between s and s2 :-\\n\",df.cov())"
   ]
  },
  {
   "cell_type": "code",
   "execution_count": null,
   "id": "f0f39bb7-f4bb-49b8-a200-62d154a19e1a",
   "metadata": {},
   "outputs": [],
   "source": []
  }
 ],
 "metadata": {
  "kernelspec": {
   "display_name": "Python 3 (ipykernel)",
   "language": "python",
   "name": "python3"
  },
  "language_info": {
   "codemirror_mode": {
    "name": "ipython",
    "version": 3
   },
   "file_extension": ".py",
   "mimetype": "text/x-python",
   "name": "python",
   "nbconvert_exporter": "python",
   "pygments_lexer": "ipython3",
   "version": "3.11.4"
  }
 },
 "nbformat": 4,
 "nbformat_minor": 5
}
