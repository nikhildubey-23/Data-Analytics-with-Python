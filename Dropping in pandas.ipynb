{
 "cells": [
  {
   "cell_type": "markdown",
   "id": "78c800a2-0623-4f2a-a4ed-f78e98e19b9a",
   "metadata": {},
   "source": [
    "## Dropping "
   ]
  },
  {
   "cell_type": "markdown",
   "id": "437b65a3-f3b5-4bc5-bad5-8237a0e10882",
   "metadata": {},
   "source": [
    "Drop method is use to remove specific rows or cloumns from a data frame"
   ]
  },
  {
   "cell_type": "code",
   "execution_count": 4,
   "id": "4879eb56-6623-4815-bcad-b5533767575b",
   "metadata": {},
   "outputs": [
    {
     "name": "stdout",
     "output_type": "stream",
     "text": [
      "the original data frame is :-\n",
      "       name  age      city\n",
      "0   nikhil   20  Bilaspur\n",
      "1  abhinay   22   Mungeli\n",
      "2    suman   22      rewa\n",
      "3    shekh   20   chambal\n"
     ]
    }
   ],
   "source": [
    "import pandas as pd\n",
    "#sample data\n",
    "data = {'name':['nikhil','abhinay','suman','shekh'],\n",
    "        'age':[20,22,22,20],\n",
    "        'city':['Bilaspur','Mungeli','rewa','chambal']\n",
    "       }\n",
    "df = pd.DataFrame(data)\n",
    "print(\"the original data frame is :-\\n\",df)\n",
    "df_dropping = df.drop(1)\n",
    "print(\"\\n dta"
   ]
  },
  {
   "cell_type": "code",
   "execution_count": null,
   "id": "c1003282-682f-4606-8a5e-28f04353a2a7",
   "metadata": {},
   "outputs": [],
   "source": []
  }
 ],
 "metadata": {
  "kernelspec": {
   "display_name": "Python 3 (ipykernel)",
   "language": "python",
   "name": "python3"
  },
  "language_info": {
   "codemirror_mode": {
    "name": "ipython",
    "version": 3
   },
   "file_extension": ".py",
   "mimetype": "text/x-python",
   "name": "python",
   "nbconvert_exporter": "python",
   "pygments_lexer": "ipython3",
   "version": "3.11.4"
  }
 },
 "nbformat": 4,
 "nbformat_minor": 5
}
