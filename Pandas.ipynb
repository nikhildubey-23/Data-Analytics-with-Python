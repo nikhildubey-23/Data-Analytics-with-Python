{
 "cells": [
  {
   "cell_type": "code",
   "execution_count": 2,
   "id": "cef4a9f0-02f7-498d-bd84-60d12461c03f",
   "metadata": {},
   "outputs": [],
   "source": [
    "import pandas as pd\n",
    "import numpy as np"
   ]
  },
  {
   "cell_type": "markdown",
   "id": "ff6cf5b6-4ca2-482d-9fa5-bfd835d3b442",
   "metadata": {},
   "source": [
    "## Data Frame"
   ]
  },
  {
   "cell_type": "code",
   "execution_count": 4,
   "id": "0a91ee41-d9b0-4c3f-bd70-740ef6293358",
   "metadata": {},
   "outputs": [
    {
     "name": "stdout",
     "output_type": "stream",
     "text": [
      "Empty DataFrame\n",
      "Columns: []\n",
      "Index: []\n"
     ]
    }
   ],
   "source": [
    "df = pd.DataFrame()\n",
    "print(df)\n",
    "#we get the empty result "
   ]
  },
  {
   "cell_type": "code",
   "execution_count": 8,
   "id": "78e45425-6e0d-4209-928a-4e16bc81b732",
   "metadata": {},
   "outputs": [
    {
     "name": "stdout",
     "output_type": "stream",
     "text": [
      "   0  1  2  3\n",
      "0  1  2  3  4\n",
      "1  1  3  5  6\n",
      "2  7  5  3  2\n",
      "3  7  5  3  2\n",
      "4  7  5  3  2\n",
      "5  7  5  3  2\n"
     ]
    }
   ],
   "source": [
    "#creating our first data fram\n",
    "df2 = pd.DataFrame([[1,2,3,4],[1,3,5,6],[7,5,3,2],[7,5,3,2],[7,5,3,2],[7,5,3,2]])\n",
    "print(df2)"
   ]
  },
  {
   "cell_type": "code",
   "execution_count": 9,
   "id": "5f1203ac-09f3-4945-ad4f-d6ed67bac4b3",
   "metadata": {},
   "outputs": [
    {
     "data": {
      "text/html": [
       "<div>\n",
       "<style scoped>\n",
       "    .dataframe tbody tr th:only-of-type {\n",
       "        vertical-align: middle;\n",
       "    }\n",
       "\n",
       "    .dataframe tbody tr th {\n",
       "        vertical-align: top;\n",
       "    }\n",
       "\n",
       "    .dataframe thead th {\n",
       "        text-align: right;\n",
       "    }\n",
       "</style>\n",
       "<table border=\"1\" class=\"dataframe\">\n",
       "  <thead>\n",
       "    <tr style=\"text-align: right;\">\n",
       "      <th></th>\n",
       "      <th>0</th>\n",
       "      <th>1</th>\n",
       "      <th>2</th>\n",
       "      <th>3</th>\n",
       "    </tr>\n",
       "  </thead>\n",
       "  <tbody>\n",
       "    <tr>\n",
       "      <th>0</th>\n",
       "      <td>1</td>\n",
       "      <td>2</td>\n",
       "      <td>3</td>\n",
       "      <td>4</td>\n",
       "    </tr>\n",
       "    <tr>\n",
       "      <th>1</th>\n",
       "      <td>1</td>\n",
       "      <td>3</td>\n",
       "      <td>5</td>\n",
       "      <td>6</td>\n",
       "    </tr>\n",
       "    <tr>\n",
       "      <th>2</th>\n",
       "      <td>7</td>\n",
       "      <td>5</td>\n",
       "      <td>3</td>\n",
       "      <td>2</td>\n",
       "    </tr>\n",
       "  </tbody>\n",
       "</table>\n",
       "</div>"
      ],
      "text/plain": [
       "   0  1  2  3\n",
       "0  1  2  3  4\n",
       "1  1  3  5  6\n",
       "2  7  5  3  2"
      ]
     },
     "execution_count": 9,
     "metadata": {},
     "output_type": "execute_result"
    }
   ],
   "source": [
    "#suppose i want to print the first some of coloumns for that we use the head attribute \n",
    "df2.head(3)#this will work top to bottom "
   ]
  },
  {
   "cell_type": "code",
   "execution_count": 10,
   "id": "d6cc87c1-aa55-41e2-9d04-42f834aba9b3",
   "metadata": {},
   "outputs": [
    {
     "data": {
      "text/html": [
       "<div>\n",
       "<style scoped>\n",
       "    .dataframe tbody tr th:only-of-type {\n",
       "        vertical-align: middle;\n",
       "    }\n",
       "\n",
       "    .dataframe tbody tr th {\n",
       "        vertical-align: top;\n",
       "    }\n",
       "\n",
       "    .dataframe thead th {\n",
       "        text-align: right;\n",
       "    }\n",
       "</style>\n",
       "<table border=\"1\" class=\"dataframe\">\n",
       "  <thead>\n",
       "    <tr style=\"text-align: right;\">\n",
       "      <th></th>\n",
       "      <th>0</th>\n",
       "      <th>1</th>\n",
       "      <th>2</th>\n",
       "      <th>3</th>\n",
       "    </tr>\n",
       "  </thead>\n",
       "  <tbody>\n",
       "    <tr>\n",
       "      <th>3</th>\n",
       "      <td>7</td>\n",
       "      <td>5</td>\n",
       "      <td>3</td>\n",
       "      <td>2</td>\n",
       "    </tr>\n",
       "    <tr>\n",
       "      <th>4</th>\n",
       "      <td>7</td>\n",
       "      <td>5</td>\n",
       "      <td>3</td>\n",
       "      <td>2</td>\n",
       "    </tr>\n",
       "    <tr>\n",
       "      <th>5</th>\n",
       "      <td>7</td>\n",
       "      <td>5</td>\n",
       "      <td>3</td>\n",
       "      <td>2</td>\n",
       "    </tr>\n",
       "  </tbody>\n",
       "</table>\n",
       "</div>"
      ],
      "text/plain": [
       "   0  1  2  3\n",
       "3  7  5  3  2\n",
       "4  7  5  3  2\n",
       "5  7  5  3  2"
      ]
     },
     "execution_count": 10,
     "metadata": {},
     "output_type": "execute_result"
    }
   ],
   "source": [
    "#now we see bottom to top for that we use the tail attribute in pandas\n",
    "df2.tail(3)"
   ]
  },
  {
   "cell_type": "markdown",
   "id": "a123db40-79a7-4e41-993a-329b6ffc3a1f",
   "metadata": {},
   "source": [
    "## How to know the size of the Data frame "
   ]
  },
  {
   "cell_type": "markdown",
   "id": "c9fad9b5-00ec-48a4-af64-8971c32934bf",
   "metadata": {},
   "source": [
    "for that we use the shape attribute "
   ]
  },
  {
   "cell_type": "code",
   "execution_count": 12,
   "id": "f6e125f8-e50b-44f1-ae13-8347635ac33e",
   "metadata": {},
   "outputs": [
    {
     "name": "stdout",
     "output_type": "stream",
     "text": [
      "the size of df2 is :- (6, 4)\n"
     ]
    }
   ],
   "source": [
    "print(\"the size of df2 is :-\", df2.shape)\n",
    "#6 rows and 4 coloumns "
   ]
  },
  {
   "cell_type": "markdown",
   "id": "03885d5a-fe4a-4dfb-82b4-a28332b87e3f",
   "metadata": {},
   "source": [
    "## Slicing in pandas "
   ]
  },
  {
   "cell_type": "markdown",
   "id": "4530c551-b78c-4159-b4dd-8c58166fc9cd",
   "metadata": {},
   "source": [
    "for that we use the iloc attribute "
   ]
  },
  {
   "cell_type": "code",
   "execution_count": 22,
   "id": "a204f22a-e9e2-4882-b528-100629c3d0bd",
   "metadata": {},
   "outputs": [
    {
     "name": "stdout",
     "output_type": "stream",
     "text": [
      "5\n",
      "   1  2\n",
      "1  3  5\n",
      "2  5  3\n"
     ]
    }
   ],
   "source": [
    "#suppose in slicing i want to access 5 present in row number 1 and coloumn number 2\n",
    "print(df2.iloc[1,2])\n",
    "#now i want to access the element present in between row nummber 1 to row number 2 and coloumn number 1 to coloumn number 2 \n",
    "print(df2.iloc[1:3,1:3])"
   ]
  },
  {
   "cell_type": "code",
   "execution_count": 25,
   "id": "913a84d5-f81e-44c9-bd52-7cfa748a5dd7",
   "metadata": {},
   "outputs": [
    {
     "name": "stdout",
     "output_type": "stream",
     "text": [
      "   a  b  c  d\n",
      "0  1  2  3  4\n",
      "1  1  3  5  6\n",
      "2  7  5  3  2\n",
      "3  7  5  3  2\n",
      "4  7  5  3  2\n",
      "5  7  5  3  2\n"
     ]
    }
   ],
   "source": [
    "#changing the name of coloumn form number to character \n",
    "df2 = pd.DataFrame([[1,2,3,4],[1,3,5,6],[7,5,3,2],[7,5,3,2],[7,5,3,2],[7,5,3,2]],columns=['a','b','c','d'])\n",
    "print(df2)"
   ]
  },
  {
   "cell_type": "code",
   "execution_count": null,
   "id": "c50ad444-2d39-4911-a021-435cd411215c",
   "metadata": {},
   "outputs": [],
   "source": []
  }
 ],
 "metadata": {
  "kernelspec": {
   "display_name": "Python 3 (ipykernel)",
   "language": "python",
   "name": "python3"
  },
  "language_info": {
   "codemirror_mode": {
    "name": "ipython",
    "version": 3
   },
   "file_extension": ".py",
   "mimetype": "text/x-python",
   "name": "python",
   "nbconvert_exporter": "python",
   "pygments_lexer": "ipython3",
   "version": "3.11.4"
  }
 },
 "nbformat": 4,
 "nbformat_minor": 5
}
