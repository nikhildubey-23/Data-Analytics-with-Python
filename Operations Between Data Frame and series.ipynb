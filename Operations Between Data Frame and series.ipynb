{
 "cells": [
  {
   "cell_type": "code",
   "execution_count": 16,
   "id": "65f3c4e4-e38b-48d8-a98f-317d4a163415",
   "metadata": {},
   "outputs": [
    {
     "name": "stdout",
     "output_type": "stream",
     "text": [
      "    a   b   c\n",
      "x  11  22  34\n",
      "y  12  23  35\n",
      "z  13  24  36\n",
      "   a   b   c\n",
      "x -9 -18 -26\n",
      "y -8 -17 -25\n",
      "z -7 -16 -24\n",
      "   a  b  c\n",
      "x  1  2  4\n",
      "y  2  3  5\n",
      "z  3  4  6\n",
      "       a      b      c\n",
      "x  False  False  False\n",
      "y  False  False  False\n",
      "z  False  False  False\n"
     ]
    }
   ],
   "source": [
    "import pandas as pd\n",
    "#dataframe\n",
    "df = pd.DataFrame({'a':[1,2,3],'b':[2,3,4],'c':[4,5,6]},index=['x','y','z'])\n",
    "#series\n",
    "s = pd.Series([10,20,30],index=['a','b','c'])\n",
    "result = df + s\n",
    "print(result)#now we performed row wise operation\n",
    "result2 = df - s\n",
    "print(result2)\n",
    "result3 = df % s\n",
    "print(result3)\n",
    "result4 = df > s\n",
    "print(result4)\n"
   ]
  },
  {
   "cell_type": "code",
   "execution_count": null,
   "id": "4a01cf4c-a937-4bf4-bf1a-ffcef79b38c0",
   "metadata": {},
   "outputs": [],
   "source": []
  }
 ],
 "metadata": {
  "kernelspec": {
   "display_name": "Python 3 (ipykernel)",
   "language": "python",
   "name": "python3"
  },
  "language_info": {
   "codemirror_mode": {
    "name": "ipython",
    "version": 3
   },
   "file_extension": ".py",
   "mimetype": "text/x-python",
   "name": "python",
   "nbconvert_exporter": "python",
   "pygments_lexer": "ipython3",
   "version": "3.11.4"
  }
 },
 "nbformat": 4,
 "nbformat_minor": 5
}
