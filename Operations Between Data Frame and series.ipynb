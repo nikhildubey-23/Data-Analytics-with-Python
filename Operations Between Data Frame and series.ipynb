{
 "cells": [
  {
   "cell_type": "code",
   "execution_count": 14,
   "id": "65f3c4e4-e38b-48d8-a98f-317d4a163415",
   "metadata": {},
   "outputs": [
    {
     "name": "stdout",
     "output_type": "stream",
     "text": [
      "    a   b   c\n",
      "x  11  22  34\n",
      "y  12  23  35\n",
      "z  13  24  36\n",
      "   a   b   c\n",
      "x -9 -18 -26\n",
      "y -8 -17 -25\n",
      "z -7 -16 -24\n"
     ]
    },
    {
     "ename": "NameError",
     "evalue": "name 'result3' is not defined",
     "output_type": "error",
     "traceback": [
      "\u001b[1;31m---------------------------------------------------------------------------\u001b[0m",
      "\u001b[1;31mNameError\u001b[0m                                 Traceback (most recent call last)",
      "Cell \u001b[1;32mIn[14], line 11\u001b[0m\n\u001b[0;32m      9\u001b[0m \u001b[38;5;28mprint\u001b[39m(result2)\n\u001b[0;32m     10\u001b[0m resul3 \u001b[38;5;241m=\u001b[39m df \u001b[38;5;241m%\u001b[39m s\n\u001b[1;32m---> 11\u001b[0m \u001b[38;5;28mprint\u001b[39m(\u001b[43mresult3\u001b[49m)\n",
      "\u001b[1;31mNameError\u001b[0m: name 'result3' is not defined"
     ]
    }
   ],
   "source": [
    "import pandas as pd\n",
    "#dataframe\n",
    "df = pd.DataFrame({'a':[1,2,3],'b':[2,3,4],'c':[4,5,6]},index=['x','y','z'])\n",
    "#series\n",
    "s = pd.Series([10,20,30],index=['a','b','c'])\n",
    "result = df + s\n",
    "print(result)#now we performed row wise operation\n",
    "result2 = df - s\n",
    "print(result2)\n",
    "resul3 = df % s\n",
    "print(result3)\n"
   ]
  },
  {
   "cell_type": "code",
   "execution_count": null,
   "id": "4a01cf4c-a937-4bf4-bf1a-ffcef79b38c0",
   "metadata": {},
   "outputs": [],
   "source": []
  }
 ],
 "metadata": {
  "kernelspec": {
   "display_name": "Python 3 (ipykernel)",
   "language": "python",
   "name": "python3"
  },
  "language_info": {
   "codemirror_mode": {
    "name": "ipython",
    "version": 3
   },
   "file_extension": ".py",
   "mimetype": "text/x-python",
   "name": "python",
   "nbconvert_exporter": "python",
   "pygments_lexer": "ipython3",
   "version": "3.11.4"
  }
 },
 "nbformat": 4,
 "nbformat_minor": 5
}
