{
 "cells": [
  {
   "cell_type": "code",
   "execution_count": 4,
   "id": "5520f9b0-4cf6-4851-b0bf-53559c9fa6c0",
   "metadata": {},
   "outputs": [
    {
     "name": "stdout",
     "output_type": "stream",
     "text": [
      "the original data\n",
      "\n",
      "      name  age      city\n",
      "0   nikhil   20  Bilaspur\n",
      "1  abhinay   22   Mungeli\n",
      "2    suman   22      rewa\n",
      "3    shekh   20   chambal\n",
      "\n",
      " data after reindexing\n",
      "\n",
      "      name  age      city\n",
      "2    suman   22      rewa\n",
      "0   nikhil   20  Bilaspur\n",
      "1  abhinay   22   Mungeli\n"
     ]
    }
   ],
   "source": [
    "#before going to read this kindly visit Basic of pandas file\n",
    "import pandas as pd\n",
    "#sanple data\n",
    "data = {'name':['nikhil','abhinay','suman','shekh'],\n",
    "        'age':[20,22,22,20],\n",
    "        'city':['Bilaspur','Mungeli','rewa','chambal']\n",
    "       }\n",
    "df = pd.DataFrame(data)\n",
    "print(\"the original data\\n\")\n",
    "print(df)\n",
    "#defining new order\n",
    "new_order = [2,0,1]\n",
    "df_reindexing = df.reindex(new_order)\n",
    "print(\"\\n data after reindexing\\n\")\n",
    "print(df_reindexing)"
   ]
  },
  {
   "cell_type": "code",
   "execution_count": null,
   "id": "bd5cdfd1-c9c1-4ca3-a73c-5fcf5f9b08c5",
   "metadata": {},
   "outputs": [],
   "source": []
  }
 ],
 "metadata": {
  "kernelspec": {
   "display_name": "Python 3 (ipykernel)",
   "language": "python",
   "name": "python3"
  },
  "language_info": {
   "codemirror_mode": {
    "name": "ipython",
    "version": 3
   },
   "file_extension": ".py",
   "mimetype": "text/x-python",
   "name": "python",
   "nbconvert_exporter": "python",
   "pygments_lexer": "ipython3",
   "version": "3.11.4"
  }
 },
 "nbformat": 4,
 "nbformat_minor": 5
}
