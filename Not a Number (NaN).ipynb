{
 "cells": [
  {
   "cell_type": "markdown",
   "id": "c098701a-a715-44d9-a3ea-9ce0aac68dff",
   "metadata": {},
   "source": [
    "in pandas the term Not a Number is use to represent a missing or undefined values. it is a floating-point value that indicates the absence of a valid numerical result\n"
   ]
  },
  {
   "cell_type": "code",
   "execution_count": 2,
   "id": "6434c1b2-4163-4c6e-8629-4c1c4b0cbecc",
   "metadata": {},
   "outputs": [
    {
     "name": "stdout",
     "output_type": "stream",
     "text": [
      "the original series:-\n",
      " 0    1.0\n",
      "1    2.0\n",
      "2    4.0\n",
      "3    NaN\n",
      "4    5.0\n",
      "5    6.0\n",
      "dtype: float64\n"
     ]
    }
   ],
   "source": [
    "import pandas as pd \n",
    "import numpy as np\n",
    "s = pd.Series([1,2,4,np.nan,5,6])\n",
    "print(\"the original series:-\\n\",s)\n"
   ]
  },
  {
   "cell_type": "markdown",
   "id": "00e944dc-51fd-4309-a647-5902e420dc62",
   "metadata": {},
   "source": [
    "## Detecting the NaN value"
   ]
  },
  {
   "cell_type": "code",
   "execution_count": 4,
   "id": "a30c2a30-a11b-425c-bf89-e4f96c669a36",
   "metadata": {},
   "outputs": [
    {
     "name": "stdout",
     "output_type": "stream",
     "text": [
      "True\n"
     ]
    }
   ],
   "source": [
    "#usinf isna() method\n",
    "detecting_NaN=s.isna().any()\n",
    "print(detecting_NaN)"
   ]
  },
  {
   "cell_type": "markdown",
   "id": "85fe7724-2e36-4dfe-b412-973795aeb969",
   "metadata": {},
   "source": [
    "# handling NaN values"
   ]
  },
  {
   "cell_type": "code",
   "execution_count": 9,
   "id": "e33dfaca-dd07-4f3c-8a86-192ef3c7a89f",
   "metadata": {},
   "outputs": [
    {
     "name": "stdout",
     "output_type": "stream",
     "text": [
      "after using drop method:-\n",
      " 0    1.0\n",
      "1    2.0\n",
      "2    4.0\n",
      "4    5.0\n",
      "5    6.0\n",
      "dtype: float64\n",
      "after using fill method:-\n",
      " 0     1.0\n",
      "1     2.0\n",
      "2     4.0\n",
      "3    20.0\n",
      "4     5.0\n",
      "5     6.0\n",
      "dtype: float64\n"
     ]
    }
   ],
   "source": [
    "#using dropna() and fillna() we are able to handle NaN values\n",
    "droping = s.dropna()\n",
    "print(\"after using drop method:-\\n\",droping)\n",
    "fill = s.fillna(20)\n",
    "print(\"after using fill method:-\\n\",fill)"
   ]
  },
  {
   "cell_type": "code",
   "execution_count": null,
   "id": "a4c440a1-ffdc-4a2b-9679-8628d102d967",
   "metadata": {},
   "outputs": [],
   "source": []
  }
 ],
 "metadata": {
  "kernelspec": {
   "display_name": "Python 3 (ipykernel)",
   "language": "python",
   "name": "python3"
  },
  "language_info": {
   "codemirror_mode": {
    "name": "ipython",
    "version": 3
   },
   "file_extension": ".py",
   "mimetype": "text/x-python",
   "name": "python",
   "nbconvert_exporter": "python",
   "pygments_lexer": "ipython3",
   "version": "3.11.4"
  }
 },
 "nbformat": 4,
 "nbformat_minor": 5
}
