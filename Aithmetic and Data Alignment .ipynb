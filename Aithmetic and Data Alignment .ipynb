{
 "cells": [
  {
   "cell_type": "markdown",
   "id": "221fa396-804b-40aa-b8a6-488b94986f6b",
   "metadata": {},
   "source": [
    "## Arithmetic and Data Alignment"
   ]
  },
  {
   "cell_type": "markdown",
   "id": "e58f5091-6b1a-490d-86f4-d7d50730958d",
   "metadata": {},
   "source": [
    "Arithmetic operation between series and data fram automatically alingn the data based on there indices"
   ]
  },
  {
   "cell_type": "code",
   "execution_count": 4,
   "id": "63bd6260-efc8-4cb3-a9d5-af1de8f19166",
   "metadata": {},
   "outputs": [
    {
     "name": "stdout",
     "output_type": "stream",
     "text": [
      "a    NaN\n",
      "b    4.0\n",
      "c    6.0\n",
      "d    NaN\n",
      "dtype: float64 \n",
      "\n",
      "      a     b\n",
      "w   NaN   NaN\n",
      "x   NaN   NaN\n",
      "y  13.0  19.0\n",
      "y  14.0  20.0\n",
      "z   NaN   NaN\n"
     ]
    }
   ],
   "source": [
    "import pandas as pd \n",
    "#series Data Frame \n",
    "s1 = pd.Series([1,2,3],index=['a','b','c'])\n",
    "s2 = pd.Series([2,3,4],index=['b','c','d'])\n",
    "#performing addition and you will see indices align automatically\n",
    "result  = s1+s2\n",
    "print(result,\"\\n\")\n",
    "#with Data Frame\n",
    "df1 = pd.DataFrame({'a':[1,2,3],'b':[4,5,6]},index=['x','y','z'])\n",
    "df2 = pd.DataFrame({'a':[11,12,13],'b':[14,15,16]},index=['y','y','w'])\n",
    "result_2 = df1+df2\n",
    "print(result_2)"
   ]
  },
  {
   "cell_type": "code",
   "execution_count": null,
   "id": "52ae7b4c-4892-491e-b8aa-f7435cde5209",
   "metadata": {},
   "outputs": [],
   "source": []
  }
 ],
 "metadata": {
  "kernelspec": {
   "display_name": "Python 3 (ipykernel)",
   "language": "python",
   "name": "python3"
  },
  "language_info": {
   "codemirror_mode": {
    "name": "ipython",
    "version": 3
   },
   "file_extension": ".py",
   "mimetype": "text/x-python",
   "name": "python",
   "nbconvert_exporter": "python",
   "pygments_lexer": "ipython3",
   "version": "3.11.4"
  }
 },
 "nbformat": 4,
 "nbformat_minor": 5
}
