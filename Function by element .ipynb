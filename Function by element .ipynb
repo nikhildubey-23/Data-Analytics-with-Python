{
 "cells": [
  {
   "cell_type": "code",
   "execution_count": 7,
   "id": "7a72fe27-c711-4984-9cd4-2c2b5c5b1133",
   "metadata": {},
   "outputs": [
    {
     "name": "stdout",
     "output_type": "stream",
     "text": [
      "0     1\n",
      "1     4\n",
      "2     9\n",
      "3    16\n",
      "dtype: int64\n",
      "   a   b\n",
      "0  2   4\n",
      "1  4   8\n",
      "2  8  12\n"
     ]
    }
   ],
   "source": [
    "import pandas as pd\n",
    "#creating a series \n",
    "s=pd.Series([1,2,3,4])\n",
    "#Defining a function to square each element \n",
    "def square(x):\n",
    "    return x**2\n",
    "result = s.apply(square)#applying function elementwise in the series \n",
    "print(result)\n",
    "df = pd.DataFrame({'a':[1,2,4],'b':[2,4,6]})\n",
    "def double_element(x):\n",
    "    return x*2\n",
    "result2 = df.apply(double_element)#applying function elementwise in the DataFrame\n",
    "print(result2)"
   ]
  },
  {
   "cell_type": "code",
   "execution_count": null,
   "id": "e744f025-c943-4188-b8b0-86c3f8c08fdc",
   "metadata": {},
   "outputs": [],
   "source": []
  },
  {
   "cell_type": "code",
   "execution_count": null,
   "id": "415d86af-8acc-49cc-93a1-be6cfbb9c85c",
   "metadata": {},
   "outputs": [],
   "source": []
  }
 ],
 "metadata": {
  "kernelspec": {
   "display_name": "Python 3 (ipykernel)",
   "language": "python",
   "name": "python3"
  },
  "language_info": {
   "codemirror_mode": {
    "name": "ipython",
    "version": 3
   },
   "file_extension": ".py",
   "mimetype": "text/x-python",
   "name": "python",
   "nbconvert_exporter": "python",
   "pygments_lexer": "ipython3",
   "version": "3.11.4"
  }
 },
 "nbformat": 4,
 "nbformat_minor": 5
}
