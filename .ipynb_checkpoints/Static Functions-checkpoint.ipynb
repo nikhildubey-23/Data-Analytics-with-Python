{
 "cells": [
  {
   "cell_type": "code",
   "execution_count": 6,
   "id": "7880c5dd-eba6-4bec-88e6-6a3b844d0fe6",
   "metadata": {},
   "outputs": [
    {
     "name": "stdout",
     "output_type": "stream",
     "text": [
      "0    1\n",
      "1    2\n",
      "2    3\n",
      "3    4\n",
      "4    5\n",
      "5    6\n",
      "6    7\n",
      "dtype: int64\n",
      "the mean of the series is :- 4.0\n",
      "the median of the series is :- 4.0\n",
      "the standard deviation of the series is :- 2.160246899469287\n"
     ]
    }
   ],
   "source": [
    "import pandas as pd\n",
    "s = pd.Series([1,2,3,4,5,6,7])\n",
    "#there are so many static function are there in pandas module but here we see the most common one \n",
    "print(s)\n",
    "\n",
    "#calculating the mean of s\n",
    "print(\"the mean of the series is :-\",s.mean())\n",
    "#median\n",
    "print(\"the median of the series is :-\",s.median())\n",
    "#std(standard deviation)\n",
    "print(\"the standard deviation of the series is :-\",s.std())"
   ]
  },
  {
   "cell_type": "code",
   "execution_count": 7,
   "id": "2669d9e1-ec8b-4c48-b287-cee91989c0fc",
   "metadata": {},
   "outputs": [
    {
     "name": "stdout",
     "output_type": "stream",
     "text": [
      "   0  1  2  3  4\n",
      "0  1  2  4  5  6\n",
      "1  3  4  5  6  5\n",
      "2  5  6  7  4  2\n"
     ]
    }
   ],
   "source": [
    "#same goes with DataFrame too\n",
    "df = pd.DataFrame([[1,2,4,5,6],[3,4,5,6,5],[5,6,7,4,2]])\n",
    "print(df)\n"
   ]
  },
  {
   "cell_type": "code",
   "execution_count": 9,
   "id": "b1a6d01e-0b8c-4993-a858-63909916e66e",
   "metadata": {},
   "outputs": [
    {
     "name": "stdout",
     "output_type": "stream",
     "text": [
      "the mean of the data frame is :-\n",
      " 0    3.000000\n",
      "1    4.000000\n",
      "2    5.333333\n",
      "3    5.000000\n",
      "4    4.333333\n",
      "dtype: float64\n",
      "the median of the data frame is :-\n",
      " 0    3.0\n",
      "1    4.0\n",
      "2    5.0\n",
      "3    5.0\n",
      "4    5.0\n",
      "dtype: float64\n",
      "the standard deviation of the data frame is :-\n",
      " 0    2.000000\n",
      "1    2.000000\n",
      "2    1.527525\n",
      "3    1.000000\n",
      "4    2.081666\n",
      "dtype: float64\n"
     ]
    }
   ],
   "source": [
    "#calculating the mean of df\n",
    "print(\"the mean of the data frame is :-\\n\",df.mean())\n",
    "#median\n",
    "print(\"the median of the data frame is :-\\n\",df.median())\n",
    "#std(standard deviation)\n",
    "print(\"the standard deviation of the data frame is :-\\n\",df.std())"
   ]
  },
  {
   "cell_type": "code",
   "execution_count": null,
   "id": "a9e479d3-caea-42db-aa1b-4c7aedd94a34",
   "metadata": {},
   "outputs": [],
   "source": []
  }
 ],
 "metadata": {
  "kernelspec": {
   "display_name": "Python 3 (ipykernel)",
   "language": "python",
   "name": "python3"
  },
  "language_info": {
   "codemirror_mode": {
    "name": "ipython",
    "version": 3
   },
   "file_extension": ".py",
   "mimetype": "text/x-python",
   "name": "python",
   "nbconvert_exporter": "python",
   "pygments_lexer": "ipython3",
   "version": "3.11.4"
  }
 },
 "nbformat": 4,
 "nbformat_minor": 5
}
