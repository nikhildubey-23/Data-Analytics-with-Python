{
 "cells": [
  {
   "cell_type": "code",
   "execution_count": 1,
   "id": "2e64f705-c842-4d23-9b2e-e1a686881004",
   "metadata": {},
   "outputs": [],
   "source": [
    "import numpy as np"
   ]
  },
  {
   "cell_type": "markdown",
   "id": "4cfa8c49-91ad-4776-8aae-054325eb2966",
   "metadata": {},
   "source": [
    "##method to create array"
   ]
  },
  {
   "cell_type": "code",
   "execution_count": 12,
   "id": "83cee00e-e4bd-48ad-8b42-7c332300c61e",
   "metadata": {},
   "outputs": [
    {
     "name": "stdout",
     "output_type": "stream",
     "text": [
      "this is an one dimention array [1 2 3 4 5] \n",
      "\n",
      "this is an multidimention array \n",
      " [[1 2 4 5]\n",
      " [6 7 8 9]]\n",
      "\n",
      " this is an different data type arrray \n",
      " ['mohan' 'rohan' 'sohan' '12' '3.7' 'True']\n"
     ]
    }
   ],
   "source": [
    "arr1 = np.array([1,2,3,4,5])\n",
    "print(\"this is an one dimention array\",arr1,\"\\n\")\n",
    "arr2 = np.array([[1,2,4,5],[6,7,8,9]])\n",
    "print(\"this is an multidimention array \\n\",arr2)\n",
    "#now we will create an array of different data type \n",
    "arr_of_friends = np.array(['mohan','rohan','sohan',12,3.7,True])\n",
    "print(\"\\n this is an different data type arrray \\n\",arr_of_friends)"
   ]
  },
  {
   "cell_type": "markdown",
   "id": "b870b137-fe05-4625-bd4b-4a61a00e4976",
   "metadata": {},
   "source": [
    "##dtype method"
   ]
  },
  {
   "cell_type": "markdown",
   "id": "eaef36f2-96bd-49b9-86c2-5431174e5ac1",
   "metadata": {},
   "source": [
    "dtype parameter is use to specify the data type of sepcific elements in numpy array"
   ]
  },
  {
   "cell_type": "code",
   "execution_count": 25,
   "id": "df6c2745-64ff-4d44-b13e-8d172ed932d9",
   "metadata": {},
   "outputs": [
    {
     "name": "stdout",
     "output_type": "stream",
     "text": [
      "this data type of arr1 is int32\n",
      "[188 655 890 654 234]\n",
      "yes we did not get the value in the form of float because we use the dtype as int32\n",
      " [188 655 890 654 234]\n",
      "after using dtype as float \n",
      " [188.7 655.9 890.6 654.4 234.2]\n"
     ]
    }
   ],
   "source": [
    "#suppose we want to know the dtype of arra1\n",
    "print(\"this data type of arr1 is\",arr1.dtype)\n",
    "\n",
    "#we call also set the data type in our code \n",
    "arr3 = np.array([188,655,890,654,234],dtype='int32')\n",
    "print(arr3)\n",
    "\n",
    "#suppose we have a float value and we use the dtype int32 \n",
    "arr4 = np.array([188.7,655.9,890.6,654.4,234.2],dtype='int32')\n",
    "print(\"yes we did not get the value in the form of float because we use the dtype as int32\\n\",arr4)\n",
    "\n",
    "arr5 = np.array([188.7,655.9,890.6,654.4,234.2],dtype='float')\n",
    "print(\"after using dtype as float \\n\",arr5)"
   ]
  },
  {
   "cell_type": "code",
   "execution_count": null,
   "id": "7545b648-2222-4da3-93a5-9e5280bff47f",
   "metadata": {},
   "outputs": [],
   "source": []
  }
 ],
 "metadata": {
  "kernelspec": {
   "display_name": "Python 3 (ipykernel)",
   "language": "python",
   "name": "python3"
  },
  "language_info": {
   "codemirror_mode": {
    "name": "ipython",
    "version": 3
   },
   "file_extension": ".py",
   "mimetype": "text/x-python",
   "name": "python",
   "nbconvert_exporter": "python",
   "pygments_lexer": "ipython3",
   "version": "3.11.4"
  }
 },
 "nbformat": 4,
 "nbformat_minor": 5
}
