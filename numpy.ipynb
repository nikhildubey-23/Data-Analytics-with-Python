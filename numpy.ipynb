{
 "cells": [
  {
   "cell_type": "code",
   "execution_count": 1,
   "id": "2e64f705-c842-4d23-9b2e-e1a686881004",
   "metadata": {},
   "outputs": [],
   "source": [
    "import numpy as np"
   ]
  },
  {
   "cell_type": "markdown",
   "id": "4cfa8c49-91ad-4776-8aae-054325eb2966",
   "metadata": {},
   "source": [
    "## Method to create array"
   ]
  },
  {
   "cell_type": "code",
   "execution_count": 2,
   "id": "83cee00e-e4bd-48ad-8b42-7c332300c61e",
   "metadata": {},
   "outputs": [
    {
     "name": "stdout",
     "output_type": "stream",
     "text": [
      "this is an one dimention array [1 2 3 4 5] \n",
      "\n",
      "this is an multidimention array \n",
      " [[1 2 4 5]\n",
      " [6 7 8 9]]\n",
      "\n",
      " this is an different data type arrray \n",
      " ['mohan' 'rohan' 'sohan' '12' '3.7' 'True']\n"
     ]
    }
   ],
   "source": [
    "arr1 = np.array([1,2,3,4,5])\n",
    "print(\"this is an one dimention array\",arr1,\"\\n\")\n",
    "arr2 = np.array([[1,2,4,5],[6,7,8,9]])\n",
    "print(\"this is an multidimention array \\n\",arr2)\n",
    "#now we will create an array of different data type \n",
    "arr_of_friends = np.array(['mohan','rohan','sohan',12,3.7,True])\n",
    "print(\"\\n this is an different data type arrray \\n\",arr_of_friends)"
   ]
  },
  {
   "cell_type": "markdown",
   "id": "b870b137-fe05-4625-bd4b-4a61a00e4976",
   "metadata": {},
   "source": [
    "## dtype method"
   ]
  },
  {
   "cell_type": "markdown",
   "id": "eaef36f2-96bd-49b9-86c2-5431174e5ac1",
   "metadata": {},
   "source": [
    "dtype parameter is use to specify the data type of sepcific elements in numpy array"
   ]
  },
  {
   "cell_type": "code",
   "execution_count": 3,
   "id": "df6c2745-64ff-4d44-b13e-8d172ed932d9",
   "metadata": {},
   "outputs": [
    {
     "name": "stdout",
     "output_type": "stream",
     "text": [
      "this data type of arr1 is int32\n",
      "[188 655 890 654 234]\n",
      "yes we did not get the value in the form of float because we use the dtype as int32\n",
      " [188 655 890 654 234]\n",
      "after using dtype as float \n",
      " [188.7 655.9 890.6 654.4 234.2]\n"
     ]
    }
   ],
   "source": [
    "#suppose we want to know the dtype of arra1\n",
    "print(\"this data type of arr1 is\",arr1.dtype)\n",
    "\n",
    "#we call also set the data type in our code \n",
    "arr3 = np.array([188,655,890,654,234],dtype='int32')\n",
    "print(arr3)\n",
    "\n",
    "#suppose we have a float value and we use the dtype int32 \n",
    "arr4 = np.array([188.7,655.9,890.6,654.4,234.2],dtype='int32')\n",
    "print(\"yes we did not get the value in the form of float because we use the dtype as int32\\n\",arr4)\n",
    "\n",
    "arr5 = np.array([188.7,655.9,890.6,654.4,234.2],dtype='float')\n",
    "print(\"after using dtype as float \\n\",arr5)"
   ]
  },
  {
   "cell_type": "markdown",
   "id": "20144535-c159-4b30-8b55-33f335367e61",
   "metadata": {},
   "source": [
    "This is all about dtype method in numpy"
   ]
  },
  {
   "cell_type": "markdown",
   "id": "14d9bc28-bcee-4e23-b7ee-fd6ca4ffdff0",
   "metadata": {},
   "source": [
    " ## Shape and Reshape method in numpy"
   ]
  },
  {
   "cell_type": "markdown",
   "id": "2cc5aa04-19be-4b50-9554-eb1b38ad502b",
   "metadata": {},
   "source": [
    "shape attribute is used to determine or specify the dimensions of a NumPy array . The shape attribute is a tuple representing the dimensions of the array, where each element of the tuple corresponds to the size of a specific dimension.\n",
    "\n",
    "As by its name Reshape in use to reshape the given array .Reshaping is a common operation, especially when working with neural networks and machine learning.\n",
    "\n",
    "let's see the practical use of it\n"
   ]
  },
  {
   "cell_type": "code",
   "execution_count": 4,
   "id": "ec35040c-7b36-4492-ba60-179292dbb90d",
   "metadata": {},
   "outputs": [
    {
     "name": "stdout",
     "output_type": "stream",
     "text": [
      "(5,)\n",
      "(2, 4)\n"
     ]
    }
   ],
   "source": [
    "arr6 = np.array([1,2,4,5,1])\n",
    "print(arr6.shape) #this output represents the number of indexing present in arr6\n",
    "\n",
    "arr7 = np.array([[1,2,4,5],[6,7,8,9]])\n",
    "print(arr7.shape)#the output specifies that we have 2 rows and 4 columns "
   ]
  },
  {
   "cell_type": "code",
   "execution_count": 5,
   "id": "d0f3880c-a416-4194-be32-6239c8380ee0",
   "metadata": {},
   "outputs": [
    {
     "name": "stdout",
     "output_type": "stream",
     "text": [
      "this is a same array of arr7 but after we change the shape it converts 4rows and 2columns\n",
      "\n",
      "[[1 2]\n",
      " [4 5]\n",
      " [6 7]\n",
      " [8 9]]\n",
      "this dimension of an arr8 is  2\n"
     ]
    }
   ],
   "source": [
    "#now we will see the reshape method which is used to reshape the given array for practical we are taking arr7 only here.\n",
    "arr8 = arr7.reshape(4,2).copy() #.cope is used to create a copy of a NumPy array. and do not affect the real array if we perform any operation on it\n",
    "print(\"this is a same array of arr7 but after we change the shape it converts 4rows and 2columns\\n\")\n",
    "print(arr8)\n",
    "\n",
    "#suppose we want to know the dimension of an array for that we use the ndim attribute \n",
    "print(\"this dimension of an arr8 is \",arr8.ndim)\n",
    "\n"
   ]
  },
  {
   "cell_type": "markdown",
   "id": "356a320e-dab8-40ee-8886-909e0093d7c2",
   "metadata": {},
   "source": [
    "## Now we will see the blank array also called the zeors array"
   ]
  },
  {
   "cell_type": "code",
   "execution_count": 6,
   "id": "0d06b4bb-0b42-40cc-bba5-537fdca61d20",
   "metadata": {},
   "outputs": [
    {
     "name": "stdout",
     "output_type": "stream",
     "text": [
      "[0. 0. 0. 0. 0. 0. 0. 0. 0. 0.]\n",
      "the dtype of arr9 is  float64\n",
      "\n",
      "the shape of arr9 is  (10,)\n",
      "\n",
      " [[0. 0. 0. 0. 0. 0. 0. 0. 0.]\n",
      " [0. 0. 0. 0. 0. 0. 0. 0. 0.]\n",
      " [0. 0. 0. 0. 0. 0. 0. 0. 0.]\n",
      " [0. 0. 0. 0. 0. 0. 0. 0. 0.]\n",
      " [0. 0. 0. 0. 0. 0. 0. 0. 0.]\n",
      " [0. 0. 0. 0. 0. 0. 0. 0. 0.]\n",
      " [0. 0. 0. 0. 0. 0. 0. 0. 0.]\n",
      " [0. 0. 0. 0. 0. 0. 0. 0. 0.]]\n",
      "\n",
      "the shape of arr10 is (8, 9)\n",
      "\n",
      "the dtype od arr10 is float64\n",
      "\n",
      " [1. 1. 1. 1. 1. 1. 1. 1. 1. 1.]\n",
      "\n",
      " [[1. 1. 1. 1. 1. 1. 1. 1.]\n",
      " [1. 1. 1. 1. 1. 1. 1. 1.]\n",
      " [1. 1. 1. 1. 1. 1. 1. 1.]\n",
      " [1. 1. 1. 1. 1. 1. 1. 1.]\n",
      " [1. 1. 1. 1. 1. 1. 1. 1.]\n",
      " [1. 1. 1. 1. 1. 1. 1. 1.]\n",
      " [1. 1. 1. 1. 1. 1. 1. 1.]]\n",
      "\n",
      " [0.00000000e+000 0.00000000e+000 0.00000000e+000 0.00000000e+000\n",
      " 0.00000000e+000 6.58095440e-321 2.02446072e+267 1.80960393e-094]\n"
     ]
    }
   ],
   "source": [
    "#for to create array of zero we use the numpy funstion np.zeros\n",
    "#for creating 1 dimetion zeros array\n",
    "arr9 = np.zeros(10)\n",
    "print(arr9)\n",
    "print(\"the dtype of arr9 is \",arr9.dtype)\n",
    "print(\"\\nthe shape of arr9 is \",arr9.shape)\n",
    "\n",
    "#for multidimentional array \n",
    "arr10 = np.zeros((8,9))\n",
    "print(\"\\n\",arr10)\n",
    "print(\"\\nthe shape of arr10 is\",arr10.shape)\n",
    "print(\"\\nthe dtype od arr10 is\",arr10.dtype)\n",
    "\n",
    "#ones of array which we create using np.ones()\n",
    "arr11 = np.ones(10)\n",
    "print(\"\\n\",arr11)\n",
    "\n",
    "#ones array in multidimention\n",
    "arr12 = np.ones((7,8))\n",
    "print(\"\\n\",arr12)\n",
    "\n",
    "#empty array\n",
    "\n",
    "arr13 = np.empty(8)#this will provide you the garbage value\n",
    "print(\"\\n\",arr13)\n",
    "\n",
    "#this is all about the blank array"
   ]
  },
  {
   "cell_type": "markdown",
   "id": "8154c5c7-7d2f-4e06-be86-24ba227d14fc",
   "metadata": {},
   "source": [
    "## Arithmetic Operations is numpy"
   ]
  },
  {
   "cell_type": "code",
   "execution_count": 26,
   "id": "8bb539d4-9149-4501-9ac5-cd7dcf778961",
   "metadata": {},
   "outputs": [
    {
     "name": "stdout",
     "output_type": "stream",
     "text": [
      "[[1 2 3 4 5]\n",
      " [6 7 8 9 3]] \n",
      "\n",
      "[[1 2 4 5 8]\n",
      " [6 7 8 9 8]] \n",
      "\n",
      "the sum of arr1  is \n",
      " [ 7  9 11 13  8]\n",
      "\n",
      " the sum of arr2 in axis one  [20 38]\n",
      "\n",
      " it perform coloumn wise operation using both the array\n",
      "\n",
      " [[ 1  4 12 20 40]\n",
      " [36 49 64 81 24]]\n",
      "\n",
      " the division value of arr1 by 2\n",
      " [[0.5 1.  1.5 2.  2.5]\n",
      " [3.  3.5 4.  4.5 1.5]]\n",
      "\n",
      " the division value of arr1 by arr2\n",
      " [[1.    1.    0.75  0.8   0.625]\n",
      " [1.    1.    1.    1.    0.375]]\n",
      "\n",
      " the square root of arr1 is \n",
      " [[1.         1.41421356 1.73205081 2.         2.23606798]\n",
      " [2.44948974 2.64575131 2.82842712 3.         1.73205081]]\n"
     ]
    }
   ],
   "source": [
    "arr1 = np.array([[1,2,3,4,5],[6,7,8,9,3]])\n",
    "arr2 = np.array([[1,2,4,5,8],[6,7,8,9,8]])\n",
    "print(arr1,\"\\n\")\n",
    "print(arr2,\"\\n\")\n",
    "print(\"the sum of arr1  is \\n\",arr1.sum(axis=0))\n",
    "#by default it perform row + column operation if axis is 0\n",
    "#but if we put axis is 1 then it will add all the element present in row and all the element present in coloumn \n",
    "print(\"\\n the sum of arr2 in axis one \",arr2.sum(axis=1))\n",
    "#the value of axis is always one or it should be zero(defalut)\n",
    "print(\"\\n it perform coloumn wise operation using both the array\")\n",
    "print(\"\\n\",np.multiply(arr1,arr2))\n",
    "print(\"\\n the division value of arr1 by 2\\n\",np.divide(arr1,2))\n",
    "print(\"\\n the division value of arr1 by arr2\\n\",np.divide(arr1,arr2))\n",
    "print(\"\\n the square root of arr1 is \\n\",np.sqrt(arr1))\n",
    "\n",
    "#this are the just few example of numpy arithmetic operatios"
   ]
  },
  {
   "cell_type": "code",
   "execution_count": null,
   "id": "d5622734-11eb-4e58-b39e-61d750f75d79",
   "metadata": {},
   "outputs": [],
   "source": []
  }
 ],
 "metadata": {
  "kernelspec": {
   "display_name": "Python 3 (ipykernel)",
   "language": "python",
   "name": "python3"
  },
  "language_info": {
   "codemirror_mode": {
    "name": "ipython",
    "version": 3
   },
   "file_extension": ".py",
   "mimetype": "text/x-python",
   "name": "python",
   "nbconvert_exporter": "python",
   "pygments_lexer": "ipython3",
   "version": "3.11.4"
  }
 },
 "nbformat": 4,
 "nbformat_minor": 5
}
