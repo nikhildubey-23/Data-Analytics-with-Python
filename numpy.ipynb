{
 "cells": [
  {
   "cell_type": "code",
   "execution_count": 1,
   "id": "2e64f705-c842-4d23-9b2e-e1a686881004",
   "metadata": {},
   "outputs": [],
   "source": [
    "import numpy as np"
   ]
  },
  {
   "cell_type": "markdown",
   "id": "4cfa8c49-91ad-4776-8aae-054325eb2966",
   "metadata": {},
   "source": [
    "##method to create array"
   ]
  },
  {
   "cell_type": "code",
   "execution_count": 12,
   "id": "83cee00e-e4bd-48ad-8b42-7c332300c61e",
   "metadata": {},
   "outputs": [
    {
     "name": "stdout",
     "output_type": "stream",
     "text": [
      "this is an one dimention array [1 2 3 4 5] \n",
      "\n",
      "this is an multidimention array \n",
      " [[1 2 4 5]\n",
      " [6 7 8 9]]\n",
      "\n",
      " this is an different data type arrray \n",
      " ['mohan' 'rohan' 'sohan' '12' '3.7' 'True']\n"
     ]
    }
   ],
   "source": [
    "arr1 = np.array([1,2,3,4,5])\n",
    "print(\"this is an one dimention array\",arr1,\"\\n\")\n",
    "arr2 = np.array([[1,2,4,5],[6,7,8,9]])\n",
    "print(\"this is an multidimention array \\n\",arr2)\n",
    "#now we will create an array of different data type \n",
    "arr_of_friends = np.array(['mohan','rohan','sohan',12,3.7,True])\n",
    "print(\"\\n this is an different data type arrray \\n\",arr_of_friends)"
   ]
  },
  {
   "cell_type": "code",
   "execution_count": null,
   "id": "411167a3-015c-4f9b-9990-26cd98ed1aa3",
   "metadata": {},
   "outputs": [],
   "source": []
  }
 ],
 "metadata": {
  "kernelspec": {
   "display_name": "Python 3 (ipykernel)",
   "language": "python",
   "name": "python3"
  },
  "language_info": {
   "codemirror_mode": {
    "name": "ipython",
    "version": 3
   },
   "file_extension": ".py",
   "mimetype": "text/x-python",
   "name": "python",
   "nbconvert_exporter": "python",
   "pygments_lexer": "ipython3",
   "version": "3.11.4"
  }
 },
 "nbformat": 4,
 "nbformat_minor": 5
}
