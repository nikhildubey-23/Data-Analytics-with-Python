{
 "cells": [
  {
   "cell_type": "markdown",
   "id": "c0f5781c-0110-4dc4-b8fc-bd546832375d",
   "metadata": {},
   "source": [
    "In pandas we can use the sort_values method for sorting and the ank method for ranking data ."
   ]
  },
  {
   "cell_type": "code",
   "execution_count": 4,
   "id": "64b16fdd-6e5d-4200-9fa5-69b1819e0b6b",
   "metadata": {},
   "outputs": [
    {
     "name": "stdout",
     "output_type": "stream",
     "text": [
      "original series:-\n",
      "\n",
      "0     9\n",
      "1     7\n",
      "2     5\n",
      "3     4\n",
      "4    32\n",
      "5     1\n",
      "dtype: int64\n",
      "printing the value in sorted form:-\n",
      "printing the series in ranking formate:-\n",
      "\n",
      "0    5.0\n",
      "1    4.0\n",
      "2    3.0\n",
      "3    2.0\n",
      "4    6.0\n",
      "5    1.0\n",
      "dtype: float64\n"
     ]
    }
   ],
   "source": [
    "import pandas as pd\n",
    "s = pd.Series([9,7,5,4,32,1])\n",
    "print(\"original series:-\\n\")\n",
    "print(s)\n",
    "#sorting the series\n",
    "print(\"printing the value in sorted form:-\")\n",
    "s.sort_values()\n",
    "#ranking the series\n",
    "print(\"printing the series in ranking formate:-\\n\")\n",
    "print(s.rank())"
   ]
  },
  {
   "cell_type": "code",
   "execution_count": 10,
   "id": "ce2a58bf-fe0e-440c-b800-06f9cdb03d04",
   "metadata": {},
   "outputs": [
    {
     "name": "stdout",
     "output_type": "stream",
     "text": [
      "original series:-\n",
      "\n",
      "   0  1  2  3   4  5\n",
      "0  9  7  5  4  32  1\n",
      "1  1  2  3  4   5  6\n",
      "2  6  7  8  9   5  3\n",
      "printing the value in cloumn 3 is in sorted form:-\n",
      "    0  1  2  3   4  5\n",
      "0  9  7  5  4  32  1\n",
      "1  1  2  3  4   5  6\n",
      "2  6  7  8  9   5  3\n",
      "printing the Dataframe in ranking formate:-\n",
      "\n",
      "     0    1    2    3    4    5\n",
      "0  3.0  2.5  2.0  1.5  3.0  1.0\n",
      "1  1.0  1.0  1.0  1.5  1.5  3.0\n",
      "2  2.0  2.5  3.0  3.0  1.5  2.0\n"
     ]
    }
   ],
   "source": [
    "#same goes with data frame also\n",
    "df = pd.DataFrame([[9,7,5,4,32,1],[1,2,3,4,5,6],[6,7,8,9,5,3]])\n",
    "print(\"original series:-\\n\")\n",
    "print(df)\n",
    "#sorting the data frame\n",
    "print(\"printing the value in cloumn 3 is in sorted form:-\\n\",df.sort_values(by=3))\n",
    "#ranking the Data frame\n",
    "print(\"printing the Dataframe in ranking formate:-\\n\")\n",
    "print(df.rank())"
   ]
  },
  {
   "cell_type": "code",
   "execution_count": null,
   "id": "bb575f0e-d066-45ab-96e7-2fbbdfb05e4e",
   "metadata": {},
   "outputs": [],
   "source": []
  }
 ],
 "metadata": {
  "kernelspec": {
   "display_name": "Python 3 (ipykernel)",
   "language": "python",
   "name": "python3"
  },
  "language_info": {
   "codemirror_mode": {
    "name": "ipython",
    "version": 3
   },
   "file_extension": ".py",
   "mimetype": "text/x-python",
   "name": "python",
   "nbconvert_exporter": "python",
   "pygments_lexer": "ipython3",
   "version": "3.11.4"
  }
 },
 "nbformat": 4,
 "nbformat_minor": 5
}
