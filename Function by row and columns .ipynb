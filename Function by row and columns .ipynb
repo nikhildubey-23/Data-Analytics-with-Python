{
 "cells": [
  {
   "cell_type": "code",
   "execution_count": 1,
   "id": "de315ca9-8061-4f2c-a3f6-ae27cc5e6f2c",
   "metadata": {},
   "outputs": [
    {
     "name": "stdout",
     "output_type": "stream",
     "text": [
      "0     6\n",
      "1    11\n",
      "2    14\n",
      "dtype: int64\n"
     ]
    }
   ],
   "source": [
    "import pandas as pd\n",
    "df = pd.DataFrame({'a':[1,2,3],'b':[3,5,6],'c':[2,4,5]})\n",
    "def sum_row(row):\n",
    "    return row.sum()\n",
    "result = df.apply(sum_row,axis=1)\n",
    "print(result)"
   ]
  },
  {
   "cell_type": "code",
   "execution_count": 5,
   "id": "ba30477c-28b4-4e7c-b7a9-05ee744c069a",
   "metadata": {},
   "outputs": [
    {
     "name": "stdout",
     "output_type": "stream",
     "text": [
      "a     6\n",
      "b    14\n",
      "c    11\n",
      "dtype: int64\n"
     ]
    }
   ],
   "source": [
    "df2 = pd.DataFrame({'a':[1,2,3],'b':[3,5,6],'c':[2,4,5]})\n",
    "def sum_column(column):\n",
    "    return column.sum()\n",
    "result2 = df2.apply(sum_column,axis=0)\n",
    "print(result2)"
   ]
  },
  {
   "cell_type": "code",
   "execution_count": null,
   "id": "3926f4cc-7700-4740-8d99-b6b90f2de366",
   "metadata": {},
   "outputs": [],
   "source": []
  },
  {
   "cell_type": "code",
   "execution_count": null,
   "id": "e57a8283-f036-4d00-adc0-2c0aedac940c",
   "metadata": {},
   "outputs": [],
   "source": []
  }
 ],
 "metadata": {
  "kernelspec": {
   "display_name": "Python 3 (ipykernel)",
   "language": "python",
   "name": "python3"
  },
  "language_info": {
   "codemirror_mode": {
    "name": "ipython",
    "version": 3
   },
   "file_extension": ".py",
   "mimetype": "text/x-python",
   "name": "python",
   "nbconvert_exporter": "python",
   "pygments_lexer": "ipython3",
   "version": "3.11.4"
  }
 },
 "nbformat": 4,
 "nbformat_minor": 5
}
